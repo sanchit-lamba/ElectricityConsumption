{
 "cells": [
  {
   "cell_type": "code",
   "execution_count": 1,
   "id": "975ca933d8beccd7",
   "metadata": {},
   "outputs": [],
   "source": [
    "import pandas as pd\n",
    "import matplotlib.pyplot as plt\n",
    "import numpy as np\n",
    "import seaborn as sns\n",
    "import os\n",
    "plt.rc('font', family='serif')\n",
    "plt.rc('axes', labelsize=12)\n",
    "plt.rc('xtick', labelsize=10, color='grey')\n",
    "plt.rc('ytick', labelsize=10, color='grey')\n",
    "plt.rc('legend', fontsize=12, loc='lower left')\n",
    "plt.rc('figure', titlesize=12)\n",
    "plt.rc('savefig', dpi=330, bbox='tight')\n",
    "%matplotlib inline\n",
    "\n",
    "default_colors = plt.rcParams['axes.prop_cycle'].by_key()['color']"
   ]
  },
  {
   "cell_type": "code",
   "execution_count": 3,
   "id": "initial_id",
   "metadata": {
    "jupyter": {
     "is_executing": true
    }
   },
   "outputs": [],
   "source": [
    "import utils\n",
    "from sklearn.metrics import mean_absolute_error, mean_squared_error\n",
    "\n",
    "import lightgbm as lgb"
   ]
  },
  {
   "cell_type": "code",
   "execution_count": null,
   "id": "40e48bd5-2b0a-4fd1-a897-999d14abd2b1",
   "metadata": {},
   "outputs": [],
   "source": [
    "def generate_fig_path(fig_name):\n",
    "    '''\n",
    "    Generate the figure path and name\n",
    "    To be used by plt.savefig function\n",
    "    '''\n",
    "    return '{}/results/fig/section3.4 tabular data model/{}'.format(PATH_TO_ROOT, fig_name)\n",
    "\n",
    "def generate_input_data_path(data_name):\n",
    "    '''\n",
    "    Generate the path to input data\n",
    "    '''\n",
    "    return '{}/results/data/{}.csv'.format(PATH_TO_ROOT, data_name)\n",
    "\n",
    "def generate_result_data_path(data_name):\n",
    "    '''\n",
    "    Generate the path to save the result data\n",
    "    '''\n",
    "    return '{}/results/data/predict/{}.csv'.format(PATH_TO_ROOT, data_name)"
   ]
  },
  {
   "cell_type": "code",
   "execution_count": 4,
   "id": "f298f24d-8cd9-4a56-8c2f-7def52d5dc86",
   "metadata": {},
   "outputs": [],
   "source": [
    "def lightGBM_train(region, params):\n",
    "    \n",
    "    # read the data\n",
    "    data = pd.read_csv(generate_input_data_path(f'{region}_daily'), index_col=0)\n",
    "    data.index = pd.to_datetime(data.index)\n",
    "    data = data.truncate(after='2019-07-01')  # do not use the last year to avoid the influence of COVID\n",
    "    data_lgmb = data[['Temperature, daily mean (degC)', 'Temperature, daily peak (degC)', 'Holiday', 'Weekend',\n",
    "                      'Electricity demand, daily sum, (GWh)']]\n",
    "    data_lgmb['Month'] = data_lgmb.index.month\n",
    "    data_lgmb['dayOfWeek'] = data_lgmb.index.weekday\n",
    "    data_lgmb = data_lgmb.dropna()\n",
    "\n",
    "    # train_test split\n",
    "    data_train, data_test = utlis.prepare_data(data_lgmb, train_ratio=0.75)\n",
    "    X_train = data_train[['Temperature, daily mean (degC)', 'Temperature, daily peak (degC)', \n",
    "                          'Holiday', 'dayOfWeek', 'Month']].values\n",
    "    X_test = data_test[['Temperature, daily mean (degC)', 'Temperature, daily peak (degC)', \n",
    "                        'Holiday', 'dayOfWeek', 'Month']].values\n",
    "    y_train = data_train['Electricity demand, daily sum, (GWh)'].values\n",
    "    y_test = data_test['Electricity demand, daily sum, (GWh)'].values\n",
    "    X_all = data_lgmb[['Temperature, daily mean (degC)', 'Temperature, daily peak (degC)', \n",
    "                       'Holiday', 'dayOfWeek', 'Month']].values\n",
    "    \n",
    "    d_train = lgb.Dataset(X_train, categorical_feature=[2,3,4], label=y_train)\n",
    "\n",
    "    # train and print the errors\n",
    "    regr = lgb.train(params, d_train, 5000)\n",
    "    \n",
    "    rmse_train = mean_squared_error(regr.predict(X_train), y_train)**0.5\n",
    "    rmse_test = mean_squared_error(regr.predict(X_test), y_test)**0.5\n",
    "    print(f'-------City: {region}--------------')\n",
    "    print(f'RMSE for Train: {rmse_train}')\n",
    "    print(f'RMSE for Test: {rmse_test}')\n",
    "    \n",
    "    # make prediction on the whole data set and save the results for model comparison\n",
    "    data_lgmb['yhat_lgbm'] = regr.predict(X_all)\n",
    "    data_lgmb.index = data_lgmb['ds']\n",
    "    data_lgmb.to_csv(generate_result_data_path(f'lgbm_{region}'), index=False)\n",
    "    \n",
    "    # prepare the data for plotting\n",
    "    verif_plot = data_lgmb[['Electricity demand, daily sum, (GWh)','yhat_lgbm']]\n",
    "    verif_plot.rename(columns={'Electricity demand, daily sum, (GWh)':'y',\n",
    "                               'yhat_lgbm':'yhat'}, inplace=True)\n",
    "    verif_plot['train'] = False\n",
    "    verif_plot.loc[data_train.ds, 'train'] = True\n",
    "    \n",
    "    return verif_plot"
   ]
  },
  {
   "cell_type": "code",
   "execution_count": null,
   "id": "7ff93799-50f0-4e12-85b1-436083354fbf",
   "metadata": {},
   "outputs": [],
   "source": []
  }
 ],
 "metadata": {
  "kernelspec": {
   "display_name": "Python 3 (ipykernel)",
   "language": "python",
   "name": "python3"
  },
  "language_info": {
   "codemirror_mode": {
    "name": "ipython",
    "version": 3
   },
   "file_extension": ".py",
   "mimetype": "text/x-python",
   "name": "python",
   "nbconvert_exporter": "python",
   "pygments_lexer": "ipython3",
   "version": "3.8.0"
  }
 },
 "nbformat": 4,
 "nbformat_minor": 5
}
